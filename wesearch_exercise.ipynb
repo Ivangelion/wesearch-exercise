{
 "cells": [
  {
   "cell_type": "code",
   "execution_count": 1,
   "id": "132e3b7b",
   "metadata": {},
   "outputs": [],
   "source": [
    "# function: get the authorization token\n",
    "# output: token\n",
    "def get_token():\n",
    "    # store token in a file\n",
    "    f = open(\"token.txt\", \"r\")\n",
    "    token = f.read()\n",
    "    return token\n",
    "\n",
    "# function: create corpus on wechat\n",
    "# input: corpus name\n",
    "# output: True if the corpus is successfully created, False otherwise\n",
    "def create_corpus(project_name, token):\n",
    "    \n",
    "    #project_name = \"wesearch-exercise-ivan-liao\"    \n",
    "    \n",
    "    headers = {\n",
    "        'Authorization': 'Bearer '+token,\n",
    "        'Content-Type': 'application/json',\n",
    "    }\n",
    "\n",
    "    data = '{ \"model\": \"lawbert\" }'\n",
    "\n",
    "    response = requests.post(wesearch_url+project_name+'/create', headers=headers, data=data)\n",
    "    if(response.json()['status'] == 'created'):\n",
    "        return True\n",
    "    else:\n",
    "        return False"
   ]
  },
  {
   "cell_type": "code",
   "execution_count": null,
   "id": "d12e37e6",
   "metadata": {},
   "outputs": [],
   "source": [
    "# function: upload random files of a specific number in a directory to the corpus\n",
    "# input: folder name, authentication token \n",
    "# output: reference_id_list for upload jobs\n",
    "def upload_docs(folder, token, num=1000):\n",
    "    headers = {'Authorization': 'Bearer '+token}\n",
    "    \n",
    "    reference_id_list = []\n",
    "    \n",
    "    # randomly select num files from the folder\n",
    "    filenames = random.sample(os.listdir(folder), num)\n",
    "    for file in filenames:    \n",
    "        files = {'file': (file+\".txt\", open(folder+\"/\"+file, \"r\", encoding=\"utf-8\"))}\n",
    "        response = requests.post(wesearch_url+project_name, headers=headers, files=files)\n",
    "        try:        \n",
    "            # store reference_id in a list for later status check\n",
    "            reference_id_list.append(response.json()['reference'])    \n",
    "        except KeyError:\n",
    "            print(response.json())\n",
    "            raise\n",
    "        \n",
    "    return reference_id_list\n",
    "\n",
    "# function: print the status of the document upload process\n",
    "# input: reference_id_list of the upload jobs\n",
    "def check_status(ref_list, token):\n",
    "    headers = {'Authorization': 'Bearer '+token}\n",
    "    \n",
    "    for reference_id in ref_list:\n",
    "        response = requests.get(wesearch_url+project_name+'/tasks/'+reference_id, headers=headers)\n",
    "        status = response.json()['status']\n",
    "        print(reference_id, status)\n",
    "\n",
    "# function: delete the document corpus\n",
    "# input: token\n",
    "# output: response from requests.delete\n",
    "def delete_corpus(token):\n",
    "    headers = {'Authorization': 'Bearer '+token}\n",
    "\n",
    "    response = requests.delete(wesearch_url+project_name+'/delete', headers=headers)\n",
    "    return response"
   ]
  },
  {
   "cell_type": "code",
   "execution_count": 51,
   "id": "e61749ce",
   "metadata": {},
   "outputs": [
    {
     "name": "stdout",
     "output_type": "stream",
     "text": [
      "Finished uploading files\n"
     ]
    }
   ],
   "source": [
    "import requests\n",
    "import os\n",
    "import random\n",
    "\n",
    "wesearch_url = \"https://project-apollo-api.stg.gc.casetext.com/v0/\"\n",
    "project_name = \"wesearch-exercise-ivan-liao\"\n",
    "folder = \"docs\"\n",
    "file_num = 1000    \n",
    "\n",
    "def main():\n",
    "    token = get_token()\n",
    "    if(create_corpus(project_name, token) == True):\n",
    "        ref_list = upload_docs(folder, token, file_num)\n",
    "    \n",
    "    print(\"Finished uploading files\")\n",
    "        \n",
    "if __name__ == \"__main__\":\n",
    "    main()"
   ]
  },
  {
   "cell_type": "code",
   "execution_count": 179,
   "id": "69d12652",
   "metadata": {},
   "outputs": [
    {
     "name": "stdout",
     "output_type": "stream",
     "text": [
      "Deleted 0 files\n"
     ]
    }
   ],
   "source": [
    "# function: delete ingestfailed files\n",
    "# input: token\n",
    "def delete_docs(token):\n",
    "    headers = {'Authorization': 'Bearer '+token}\n",
    "\n",
    "    response = requests.get(wesearch_url+project_name, headers=headers)    \n",
    "    files = response.json()['documents']\n",
    "    folder = \"docs\"\n",
    "\n",
    "    f = open(\"ingestfailed_files.txt\", \"a\")\n",
    "    \n",
    "    delete_count = 0\n",
    "    for file in files:\n",
    "        if(file['status'] == 'IngestFailed'):            \n",
    "            doc_id = file['doc_id']\n",
    "            file_path = file['file_path'].split(\".txt\")[0]\n",
    "            f.write(file_path+\"\\n\")\n",
    "            requests.delete(wesearch_url+\"doc/\"+doc_id, headers=headers)\n",
    "            delete_count += 1\n",
    "\n",
    "    print(\"Deleted %d files\" %(delete_count))    \n",
    "    f.close()\n",
    "    \n",
    "token = get_token()\n",
    "delete_docs(token)"
   ]
  },
  {
   "cell_type": "code",
   "execution_count": 173,
   "id": "22f799b4",
   "metadata": {},
   "outputs": [
    {
     "name": "stdout",
     "output_type": "stream",
     "text": [
      "reupload complete\n"
     ]
    }
   ],
   "source": [
    "# function: reupload remaining files \n",
    "# input: token\n",
    "def reupload(token):\n",
    "\n",
    "    # get current files in the corpus\n",
    "    response = requests.get(wesearch_url+project_name, headers=headers)\n",
    "    current_files = response.json()['documents']\n",
    "    current_filenames = []\n",
    "    for x in current_files:\n",
    "        current_filenames.append(x['file_path'].split(\".txt\")[0])\n",
    "\n",
    "    # current number of files\n",
    "    count = len(current_filenames)\n",
    "\n",
    "    # how many files need to be uploaded\n",
    "    num = file_num - count\n",
    "\n",
    "    # store the files that cannot be ingested\n",
    "    ingestfailed_files = []\n",
    "    f = open(\"ingestfailed_files.txt\", \"r\")\n",
    "    for x in f:\n",
    "        ingestfailed_files.append(x.split(\"\\n\")[0])    \n",
    "    \n",
    "    # reupload files\n",
    "    for i in range(num):\n",
    "        filename = random.choice(os.listdir(folder))\n",
    "        while(filename in current_filenames) and (filename not in ingestfailed_files):\n",
    "            filename = random.choice(os.listdir(folder))\n",
    "\n",
    "        files = {'file': (filename+\".txt\", open(folder+\"/\"+filename, \"r\", encoding=\"utf-8\"))}\n",
    "        response = requests.post(wesearch_url+project_name, headers=headers, files=files)\n",
    "\n",
    "    print(\"reupload complete\")\n",
    "    \n",
    "reupload(get_token())"
   ]
  },
  {
   "cell_type": "code",
   "execution_count": 181,
   "id": "0544469e",
   "metadata": {},
   "outputs": [],
   "source": [
    "# simple query function\n",
    "def query(token, string):\n",
    "    import pprint\n",
    "\n",
    "    headers = {'Authorization': 'Bearer '+token,}\n",
    "\n",
    "    params = (\n",
    "        ('q', string),\n",
    "    )\n",
    "\n",
    "    response = requests.get(wesearch_url+project_name+'/search', headers=headers, params=params)\n",
    "\n",
    "    pprint.pprint(response.json())\n",
    "\n",
    "#query(get_token(), \"religious\")"
   ]
  }
 ],
 "metadata": {
  "kernelspec": {
   "display_name": "Python 3 (ipykernel)",
   "language": "python",
   "name": "python3"
  },
  "language_info": {
   "codemirror_mode": {
    "name": "ipython",
    "version": 3
   },
   "file_extension": ".py",
   "mimetype": "text/x-python",
   "name": "python",
   "nbconvert_exporter": "python",
   "pygments_lexer": "ipython3",
   "version": "3.7.6"
  }
 },
 "nbformat": 4,
 "nbformat_minor": 5
}
